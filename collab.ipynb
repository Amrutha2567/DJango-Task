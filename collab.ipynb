{
  "nbformat": 4,
  "nbformat_minor": 0,
  "metadata": {
    "colab": {
      "provenance": []
    },
    "kernelspec": {
      "name": "python3",
      "display_name": "Python 3"
    },
    "language_info": {
      "name": "python"
    }
  },
  "cells": [
    {
      "cell_type": "code",
      "source": [
        "pip install django\n"
      ],
      "metadata": {
        "colab": {
          "base_uri": "https://localhost:8080/"
        },
        "id": "LFJOIQPmrKrZ",
        "outputId": "5713dd31-250d-44b9-9c0c-3a646c54f86a"
      },
      "execution_count": 5,
      "outputs": [
        {
          "output_type": "stream",
          "name": "stdout",
          "text": [
            "Collecting django\n",
            "  Downloading Django-5.1.2-py3-none-any.whl.metadata (4.2 kB)\n",
            "Collecting asgiref<4,>=3.8.1 (from django)\n",
            "  Downloading asgiref-3.8.1-py3-none-any.whl.metadata (9.3 kB)\n",
            "Requirement already satisfied: sqlparse>=0.3.1 in /usr/local/lib/python3.10/dist-packages (from django) (0.5.1)\n",
            "Requirement already satisfied: typing-extensions>=4 in /usr/local/lib/python3.10/dist-packages (from asgiref<4,>=3.8.1->django) (4.12.2)\n",
            "Downloading Django-5.1.2-py3-none-any.whl (8.3 MB)\n",
            "\u001b[2K   \u001b[90m━━━━━━━━━━━━━━━━━━━━━━━━━━━━━━━━━━━━━━━━\u001b[0m \u001b[32m8.3/8.3 MB\u001b[0m \u001b[31m51.2 MB/s\u001b[0m eta \u001b[36m0:00:00\u001b[0m\n",
            "\u001b[?25hDownloading asgiref-3.8.1-py3-none-any.whl (23 kB)\n",
            "Installing collected packages: asgiref, django\n",
            "Successfully installed asgiref-3.8.1 django-5.1.2\n"
          ]
        }
      ]
    },
    {
      "cell_type": "code",
      "source": [
        "from django.db import transaction\n",
        "from django.dispatch import Signal, receiver\n"
      ],
      "metadata": {
        "id": "Yr_xBK5Srq_0"
      },
      "execution_count": 13,
      "outputs": []
    },
    {
      "cell_type": "code",
      "execution_count": 14,
      "metadata": {
        "colab": {
          "base_uri": "https://localhost:8080/"
        },
        "id": "rBpra8SJq3q6",
        "outputId": "93ff66dd-3a4d-4f30-bc68-1135331bc0dd"
      },
      "outputs": [
        {
          "output_type": "stream",
          "name": "stdout",
          "text": [
            "Before sending signal.\n",
            "Signal received!\n",
            "After sending signal.\n"
          ]
        }
      ],
      "source": [
        "from django.dispatch import Signal, receiver\n",
        "\n",
        "# Define a custom signal\n",
        "my_signal = Signal()\n",
        "\n",
        "@receiver(my_signal)\n",
        "def my_receiver(sender, **kwargs):\n",
        "    print(\"Signal received!\")\n",
        "\n",
        "# Function to emit the signal\n",
        "def emit_signal():\n",
        "    print(\"Before sending signal.\")\n",
        "    my_signal.send(sender=None)\n",
        "    print(\"After sending signal.\")\n",
        "\n",
        "# Call the function to emit the signal\n",
        "emit_signal()\n"
      ]
    },
    {
      "cell_type": "code",
      "source": [
        "import threading\n",
        "from django.dispatch import Signal, receiver\n",
        "\n",
        "# Define a custom signal\n",
        "my_signal = Signal()\n",
        "\n",
        "@receiver(my_signal)\n",
        "def my_receiver(sender, **kwargs):\n",
        "    print(f\"Signal received in thread: {threading.current_thread().name}\")\n",
        "\n",
        "# Function to emit the signal\n",
        "def emit_signal():\n",
        "    print(f\"Before sending signal in thread: {threading.current_thread().name}\")\n",
        "    my_signal.send(sender=None)\n",
        "    print(f\"After sending signal in thread: {threading.current_thread().name}\")\n",
        "\n",
        "# Call the function to emit the signal\n",
        "emit_signal()\n"
      ],
      "metadata": {
        "colab": {
          "base_uri": "https://localhost:8080/"
        },
        "id": "VOZ_fs2nq9Dl",
        "outputId": "a57643b4-c74b-4cc7-b22c-a8a49102384e"
      },
      "execution_count": 7,
      "outputs": [
        {
          "output_type": "stream",
          "name": "stdout",
          "text": [
            "Before sending signal in thread: MainThread\n",
            "Signal received in thread: MainThread\n",
            "After sending signal in thread: MainThread\n"
          ]
        }
      ]
    },
    {
      "cell_type": "code",
      "source": [
        "pip show django\n"
      ],
      "metadata": {
        "colab": {
          "base_uri": "https://localhost:8080/"
        },
        "id": "oWbECie-r_Oi",
        "outputId": "d539c18e-10d5-40a2-ce3b-1109bb24a759"
      },
      "execution_count": 17,
      "outputs": [
        {
          "output_type": "stream",
          "name": "stdout",
          "text": [
            "Name: Django\n",
            "Version: 5.1.2\n",
            "Summary: A high-level Python web framework that encourages rapid development and clean, pragmatic design.\n",
            "Home-page: https://www.djangoproject.com/\n",
            "Author: \n",
            "Author-email: Django Software Foundation <foundation@djangoproject.com>\n",
            "License: BSD-3-Clause\n",
            "Location: /usr/local/lib/python3.10/dist-packages\n",
            "Requires: asgiref, sqlparse\n",
            "Required-by: \n"
          ]
        }
      ]
    },
    {
      "cell_type": "code",
      "source": [
        "# import os\n",
        "# import django\n",
        "\n",
        "# # Set the settings module\n",
        "# os.environ.setdefault('DJANGO_SETTINGS_MODULE', 'your_project_name.settings')\n",
        "\n",
        "# # Initialize Django\n",
        "# django.setup()\n",
        "\n",
        "# # Now you can import Django models and other components\n",
        "# from django.db import transaction\n",
        "# from django.dispatch import Signal, receiver\n",
        "# #\n",
        "# # Define a custom signal\n",
        "# my_signal = Signal()\n",
        "\n",
        "# @receiver(my_signal)\n",
        "# def my_receiver(sender, **kwargs):\n",
        "#     print(\"Signal received within a transaction!\")\n",
        "\n",
        "# # Function to emit signal within a transaction\n",
        "# def emit_signal_with_transaction():\n",
        "#     with transaction.atomic():\n",
        "#         print(\"Before sending signal within transaction.\")\n",
        "#         my_signal.send(sender=None)\n",
        "#         print(\"After sending signal within transaction.\")\n",
        "\n",
        "# # Call the function to emit the signal within a transaction\n",
        "# emit_signal_with_transaction()\n",
        "\n"
      ],
      "metadata": {
        "id": "UTMHL4L5r2QH"
      },
      "execution_count": 23,
      "outputs": []
    },
    {
      "cell_type": "code",
      "source": [
        "class Rectangle:\n",
        "    def __init__(self, length: int, width: int):\n",
        "        self.length = length\n",
        "        self.width = width\n",
        "\n",
        "    def __iter__(self):\n",
        "        yield {'length': self.length}\n",
        "        yield {'width': self.width}\n",
        "\n",
        "# Example usage\n",
        "rect = Rectangle(10, 5)\n",
        "\n",
        "# Iterating over the Rectangle instance\n",
        "for dimension in rect:\n",
        "    print(dimension)\n"
      ],
      "metadata": {
        "colab": {
          "base_uri": "https://localhost:8080/"
        },
        "id": "8Pq19ainrC6R",
        "outputId": "5a49bd05-cf52-4ccc-f4cb-41067a1ef38f"
      },
      "execution_count": 3,
      "outputs": [
        {
          "output_type": "stream",
          "name": "stdout",
          "text": [
            "{'length': 10}\n",
            "{'width': 5}\n"
          ]
        }
      ]
    }
  ]
}